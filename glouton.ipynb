{
 "cells": [
  {
   "cell_type": "markdown",
   "metadata": {},
   "source": [
    "# I Le problème du rendu de monnaie"
   ]
  },
  {
   "cell_type": "markdown",
   "metadata": {},
   "source": [
    "## 1 Payer en euro"
   ]
  },
  {
   "cell_type": "markdown",
   "metadata": {},
   "source": [
    "  On rappelle que dans la zone euro, on peut payer avec des billets de 500, 200, 100, 50, 20 ou 10 euros, ou avec des pièces de 2 et  1 euros (on négligera pour l'instant les centimes).\n",
    " "
   ]
  },
  {
   "cell_type": "markdown",
   "metadata": {},
   "source": [
    " On peut noter que si $S$ est un nombre entier en euro, il est toujours possible de la payer avec des pièces et des billets en euros, par exemple en employant uniquement des pièces de 1 euro. Cette dernière méthose n'est toutefois pas très pratique.\n",
    "  "
   ]
  },
  {
   "cell_type": "markdown",
   "metadata": {},
   "source": [
    "On s'intéresse donc au problème suivant : étant donné une somme $S$ entière en euros, comment trouver un moyen de la payer avec un nombre minimum de pièces et billets ?\n",
    "  "
   ]
  },
  {
   "cell_type": "markdown",
   "metadata": {},
   "source": [
    "Par exemple, pour payer 7 euros, je peux utiliser un billet de cinq euros et une pièce de 2 euros. Il de plus est facile de voir que cette solution est minimale, car je ne peut pas payer 7 euros avec une seule pièce ou un seul billet."
   ]
  },
  {
   "cell_type": "markdown",
   "metadata": {},
   "source": [
    "Un façon naturelle de procéder est la façon suivante : étant donner une somme n à payer en euro, on prend le plus grand nombre possible de billets de 500 euros tel que la valeur totale des billets ne dépasse pas $n$, puis on prend le plus grand nombre possible de billets de 200 euro tel \n",
    "    que leur valeur totale ne dépasse pas le reste, et ainsi de suite jusqu'aux pièces de 1 euro."
   ]
  },
  {
   "cell_type": "markdown",
   "metadata": {},
   "source": [
    "On peut formaliser cet algorithme de la manière suivante. On définit un système monétaire comme une liste strictement décroissante de nombres entiers strictements positifs : $systemeMonetaire=[x_0,x_2,\\ldots,x_{n-1}]$ avec $x_0>x_1>\\ldots>x_{n-1}$.\n",
    " On utilise alors l'algorithme suivant, qui retourne une liste \n",
    " \n",
    "     Lp prend la valeur []\n",
    "     Pour i allant de 0 à n-1\n",
    "         nbe prend la valeur quotient de la division euclidienne de S par systemeMonetaire[i]\n",
    "         S prend la valeur reste de la division euclidienne de S par systemeMonetaire[i]\n",
    "         ajouter nbe à Lp"
   ]
  },
  {
   "cell_type": "markdown",
   "metadata": {},
   "source": [
    "**Travail à faire** \n",
    "1. Appliquer l'algorithme ci-dessus pour déterminer une manière de payer la somme de 489 euros. Précisez le nombre total de billets et pièces utilisés, et montrer que ce nombre est optimal.\n",
    "2. Compléter le code Python ci-dessus de manière à définir une fonction renduMonnaie qui prend en entrée un entier strictement positif et retourne la liste Lp des nombres de chaque billet ou piece a rendre pour le système monétaire donné en variable globale."
   ]
  },
  {
   "cell_type": "code",
   "execution_count": 5,
   "metadata": {},
   "outputs": [],
   "source": [
    "systemeMonetaire=[100,50,20,10,2,1]\n",
    "\n",
    "def renduMonnaie(S):\n",
    "    Lp=[]\n",
    "    ### TODO A compléter et commenter\n",
    "    return Lp"
   ]
  },
  {
   "cell_type": "markdown",
   "metadata": {},
   "source": [
    "## 2 Payer en fifrelins"
   ]
  },
  {
   "cell_type": "markdown",
   "metadata": {},
   "source": [
    "Dans un pays imaginaire, on ne paye pas en euros, mais en fifrelins. Il n'existe pas que des billets, mais uniquement des pièces de 4, 3 et 1 fifrelins.\n",
    "Le système monétaire de ce pays peut donc être décrit par la liste $systemeMonetaire=[4,3,1]$."
   ]
  },
  {
   "cell_type": "markdown",
   "metadata": {},
   "source": [
    "**Travail à faire** Préciser ce que rend l'algorithme donné ci-dessus si on lui demande comment payer la somme de 6 fifrelins. Le résultat donné est-il optimal ?"
   ]
  },
  {
   "cell_type": "markdown",
   "metadata": {},
   "source": [
    "## 3 A retenir"
   ]
  },
  {
   "cell_type": "markdown",
   "metadata": {},
   "source": [
    "L'algorithme de rendu de monnaie ci-dessus est un exemple d'*algorithme glouton* : il chercher à trouver à chaque étape une solution optimale pour cette étape en maximisant la somme payé avec un type de pièce ou de billet donné. Toutefois, rien ne dit que la solution finalement obtenue soit optimale !"
   ]
  },
  {
   "cell_type": "markdown",
   "metadata": {},
   "source": [
    "# II Le problème du sac à dos"
   ]
  },
  {
   "cell_type": "markdown",
   "metadata": {},
   "source": [
    "## 1 Description du problème"
   ]
  },
  {
   "cell_type": "markdown",
   "metadata": {},
   "source": [
    " Le problème du sac à dos peut se décrire comme suit : on dispose d'au sac à dos d'un capacité de chargement maximal $n$ en kilogramme, et d'une liste d'objets tous caractérisés un certain poid (en nombre entier de kg) et une certaine valeur. Comment remplir le sac tel que la somme des valeurs des objets emportés soit maximale, sans dépasser la capacité du sac ?"
   ]
  },
  {
   "cell_type": "markdown",
   "metadata": {},
   "source": [
    "**Exemple** Dans l'exemple ci-dessous, on a un sac de capacité 15 kg et 5 objets.\n",
    "\n",
    "-Un objet de poids 12 kg et de valeur 4 $\n",
    "\n",
    "-Un objet de poids 2 kg et de valeur 2 $\n",
    "\n",
    "-Un objet de poids 1 kg et de valeur 1 $\n",
    "\n",
    "-Un objet de poids 4 kg et de valeur 10 $\n",
    "\n",
    "-Un objet de poids 1 kg et de valeur 2 $\n",
    "\n",
    "![Alt sac](sac.png \"Quels objets mettre dans le sac pour maximiser la valeur emportée ?\")"
   ]
  },
  {
   "cell_type": "markdown",
   "metadata": {},
   "source": [
    "## 2 Un algorithme glouton"
   ]
  },
  {
   "cell_type": "code",
   "execution_count": null,
   "metadata": {},
   "outputs": [],
   "source": []
  }
 ],
 "metadata": {
  "celltoolbar": "Format de la Cellule Texte Brut",
  "kernelspec": {
   "display_name": "Python 3",
   "language": "python",
   "name": "python3"
  },
  "language_info": {
   "codemirror_mode": {
    "name": "ipython",
    "version": 3
   },
   "file_extension": ".py",
   "mimetype": "text/x-python",
   "name": "python",
   "nbconvert_exporter": "python",
   "pygments_lexer": "ipython3",
   "version": "3.7.6"
  }
 },
 "nbformat": 4,
 "nbformat_minor": 4
}
