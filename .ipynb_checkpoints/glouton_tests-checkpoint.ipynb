{
 "cells": [
  {
   "cell_type": "markdown",
   "metadata": {},
   "source": [
    "# I Le problème du rendu de monnaie"
   ]
  },
  {
   "cell_type": "markdown",
   "metadata": {},
   "source": [
    "## 1 Payer en euro"
   ]
  },
  {
   "cell_type": "markdown",
   "metadata": {},
   "source": [
    "  On rappelle que dans la zone euro, on peut payer avec des billets de 500, 200, 100, 50, 20 ou 10 euros, ou avec des pièces de 2 et  1 euros (on négligera pour l'instant les centimes).\n",
    " "
   ]
  },
  {
   "cell_type": "markdown",
   "metadata": {},
   "source": [
    " On peut noter que si $S$ est un nombre entier en euro, il est toujours possible de la payer avec des pièces et des billets en euros, par exemple en employant uniquement des pièces de 1 euro. Cette dernière méthose n'est toutefois pas très pratique.\n",
    "  "
   ]
  },
  {
   "cell_type": "markdown",
   "metadata": {},
   "source": [
    "On s'intéresse donc au problème suivant : étant donné une somme $S$ entière en euros, comment trouver un moyen de la payer avec un nombre minimum de pièces et billets ?\n",
    "  "
   ]
  },
  {
   "cell_type": "markdown",
   "metadata": {},
   "source": [
    "Par exemple, pour payer 7 euros, je peux utiliser un billet de cinq euros et une pièce de 2 euros. Il de plus est facile de voir que cette solution est minimale, car je ne peut pas payer 7 euros avec une seule pièce ou un seul billet."
   ]
  },
  {
   "cell_type": "markdown",
   "metadata": {},
   "source": [
    "Un façon naturelle de procéder est la façon suivante : étant donner une somme n à payer en euro, on prend le plus grand nombre possible de billets de 500 euros tel que la valeur totale des billets ne dépasse pas $n$, puis on prend le plus grand nombre possible de billets de 200 euro tel \n",
    "    que leur valeur totale ne dépasse pas le reste, et ainsi de suite jusqu'aux pièces de 1 euro."
   ]
  },
  {
   "cell_type": "markdown",
   "metadata": {},
   "source": [
    "On peut formaliser cet algorithme de la manière suivante. On définit un système monétaire comme une liste strictement décroissante de nombres entiers strictements positifs : $systemeMonetaire=[x_0,x_2,\\ldots,x_{n-1}]$ avec $x_0>x_1>\\ldots>x_{n-1}$.\n",
    " On utilise alors l'algorithme suivant, qui retourne une liste \n",
    " \n",
    "     Lp prend la valeur []\n",
    "     Pour i allant de 0 à n-1\n",
    "         nbe prend la valeur quotient de la division euclidienne de S par systemeMonetaire[i]\n",
    "         S prend la valeur reste de la division euclidienne de S par systemeMonetaire[i]\n",
    "         ajouter nbe à la liste Lp"
   ]
  },
  {
   "cell_type": "markdown",
   "metadata": {},
   "source": [
    "**Travail à faire** \n",
    "1. Appliquer l'algorithme ci-dessus pour déterminer une manière de payer la somme de 489 euros. Précisez le nombre total de billets et pièces utilisés, et montrer que ce nombre est optimal.\n",
    "2. Compléter le code Python ci-dessus de manière à définir une fonction renduMonnaie qui prend en entrée un entier strictement positif et retourne la liste $Lp$ des nombres de chaque billet ou piece a rendre pour le système monétaire donné en variable globale."
   ]
  },
  {
   "cell_type": "code",
   "execution_count": 6,
   "metadata": {},
   "outputs": [
    {
     "data": {
      "text/plain": [
       "[]"
      ]
     },
     "execution_count": 6,
     "metadata": {},
     "output_type": "execute_result"
    }
   ],
   "source": [
    "systemeMonetaire=[100,50,20,10,2,1]\n",
    "\n",
    "def renduMonnaie(S):\n",
    "    Lp=[]\n",
    "    ### TODO A compléter et commenter\n",
    "    return Lp\n",
    "\n",
    "# Modifier la ligne ci-dessous pour tester le rendu pour différentes valeurs\n",
    "renduMonnaie(489)"
   ]
  },
  {
   "cell_type": "markdown",
   "metadata": {},
   "source": [
    "## 2 Payer en fifrelins"
   ]
  },
  {
   "cell_type": "markdown",
   "metadata": {},
   "source": [
    "Dans un pays imaginaire, on ne paye pas en euros, mais en fifrelins. Il n'existe pas que des billets, mais uniquement des pièces de 4, 3 et 1 fifrelins.\n",
    "Le système monétaire de ce pays peut donc être décrit par la liste $systemeMonetaire=[4,3,1]$."
   ]
  },
  {
   "cell_type": "markdown",
   "metadata": {},
   "source": [
    "**Travail à faire** Préciser ce que rend l'algorithme donné ci-dessus si on lui demande comment payer la somme de 6 fifrelins et montrer que le résultat donné n'est pas optimal."
   ]
  },
  {
   "cell_type": "markdown",
   "metadata": {},
   "source": [
    "## 3 A retenir"
   ]
  },
  {
   "cell_type": "markdown",
   "metadata": {},
   "source": [
    "L'algorithme de rendu de monnaie ci-dessus est un exemple d'*algorithme glouton* : il cherche à trouver à chaque étape une solution optimale pour cette étape en maximisant la somme payé avec un type de pièce ou de billet donné. Toutefois, rien ne dit que la solution finalement obtenue soit optimale !"
   ]
  },
  {
   "cell_type": "markdown",
   "metadata": {},
   "source": [
    "# II Le problème du sac à dos"
   ]
  },
  {
   "cell_type": "markdown",
   "metadata": {},
   "source": [
    "## 1 Description du problème"
   ]
  },
  {
   "cell_type": "markdown",
   "metadata": {},
   "source": [
    " Le problème du sac à dos peut se décrire comme suit : on dispose d'au sac à dos d'un capacité de chargement maximal $n$ en kilogramme, et d'une liste d'objets tous caractérisés un certain poid (en nombre entier de kg) et une certaine valeur. Comment remplir le sac tel que la somme des valeurs des objets emportés soit maximale, sans dépasser la capacité du sac ?"
   ]
  },
  {
   "cell_type": "markdown",
   "metadata": {},
   "source": [
    "**Exemple** Supposons que l'on dispose d'un sac de capacité 15 kg et 5 objets.\n",
    "\n",
    "-Un objet de poids 12 kg et de valeur 7 $\n",
    "\n",
    "-Un objet de poids 9 kg et de valeur 10 $\n",
    "\n",
    "-Un objet de poids 7 kg et de valeur 3 $\n",
    "\n",
    "-Un objet de poids 5 kg et de valeur 2 $\n",
    "\n",
    "-Un objet de poids 2 kg et de valeur 1 $\n",
    "\n",
    "Quels objets mettre dans le sac pour maximiser la valeur emportée ?"
   ]
  },
  {
   "cell_type": "markdown",
   "metadata": {},
   "source": [
    "## 2 Un algorithme glouton"
   ]
  },
  {
   "cell_type": "markdown",
   "metadata": {},
   "source": [
    "Une première méthode pour remplir au mieux le sac est la suivant.\n",
    "\n",
    "On définit le *rendement* de chaque objet comme son prix par kg.\n",
    "\n",
    "On applique ensuite l'algorithme suivant.\n",
    "\n",
    "-On commence par classer les objets par ordre décroissant de rendement.\n",
    "\n",
    "-On teste ensuite, pour chaque objet, si on peut l'emporter sans dépasser la capacité restante du sac. Si oui, on l'emmène et on fait diminuer la capacité restante du poids de l'objet. Si non, on le laisse."
   ]
  },
  {
   "cell_type": "markdown",
   "metadata": {},
   "source": [
    "La seconde partie de l'algorithme peut s'écrire de la façon suivante, le code prenant en entrée une capacité $c$ entière et une liste de couples $[poids,valeur]$ *classés par rendement décroissant* de longueur $n$ et retournant une liste $Lp$, où $Lp[i]$ est égal à 1 si l'objet d'indice $i$ de la liste initiale est emporté, à 0 sinon."
   ]
  },
  {
   "cell_type": "markdown",
   "metadata": {},
   "source": [
    "    Pour i allant de 0 à $n-1$\n",
    "        poids=Lp[0]\n",
    "        si poids<=c alors\n",
    "            Lp=1\n",
    "            c=c-poids\n",
    "        sinon\n",
    "            Lp=[0]"
   ]
  },
  {
   "cell_type": "markdown",
   "metadata": {},
   "source": [
    "**Exemple** Reprenons l'exemple ci-dessus.\n",
    "\n",
    "<img src=\"choix.png\" alt=\"Objests emportés\" >\n",
    "\n",
    "Dans la première colonne, on a classé les objets par rendements décroissants.\n",
    "\n",
    "On teste ensuite pour chaque objet s'il peut être emporté.\n",
    "\n",
    "-Le premier peut être emporté car son poids (9kg) n'excède pas la capacité du sac (15 kg). La capacité restante passe à 6 kg.\n",
    "\n",
    "-Le deuxième ne peut pas être emporté car son poids (12 kg) excède la capacité restante.\n",
    "\n",
    "-le troisième peut être emporté. La capacité restante passe à 4 kg.\n",
    "\n",
    "-Le quatrième et la cinquième ne peuvent pas être emportés car leur poids excède la capacité restante.\n",
    "\n",
    "On emporte en définitive le premier et le troisème objet, pour un poids total de 11kg et une valeur totale de 11 $."
   ]
  },
  {
   "cell_type": "markdown",
   "metadata": {},
   "source": [
    "**Travail à faire**\n",
    "1. Montrer que la solution obtenue ci-dessus n'est pas optimale.\n",
    "2. Rédiger dans la console ci-dessus deux fonctions python.\n",
    "\n",
    "-une fonction triRendement(L) qui prend en entrée une liste de couples d'entiers $[poids, valeurs]$ et trie la liste par ordre décroissant des rendements\n",
    "\n",
    "-une fonction remplSac(c,L) qui prend en entrée un entier strictement positif $c$ et une liste de couples $[poids, valeurs]$ triés par ordre décroissant de rendement et retourne une liste $Lemp$ d'entiers égaux à 1 ou 0, 1 indiquant que l'objet d'indice $i$ est emporté, 0 qu'il n'est pas emporté."
   ]
  },
  {
   "cell_type": "code",
   "execution_count": 7,
   "metadata": {},
   "outputs": [],
   "source": [
    "def triRendement(L):\n",
    "    ### TODO : à compléter \n",
    "    return L\n",
    "\n",
    "def remplSac(c,L):\n",
    "    ### Todo : à compléter\n",
    "    return Lemp\n",
    "\n",
    "### Ne pas oublier d'ajouter des tests !"
   ]
  },
  {
   "cell_type": "code",
   "execution_count": null,
   "metadata": {},
   "outputs": [],
   "source": []
  }
 ],
 "metadata": {
  "celltoolbar": "Format de la Cellule Texte Brut",
  "kernelspec": {
   "display_name": "Python 3",
   "language": "python",
   "name": "python3"
  },
  "language_info": {
   "codemirror_mode": {
    "name": "ipython",
    "version": 3
   },
   "file_extension": ".py",
   "mimetype": "text/x-python",
   "name": "python",
   "nbconvert_exporter": "python",
   "pygments_lexer": "ipython3",
   "version": "3.7.6"
  }
 },
 "nbformat": 4,
 "nbformat_minor": 4
}
